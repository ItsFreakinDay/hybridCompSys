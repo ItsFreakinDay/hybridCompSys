{
  "nbformat": 4,
  "nbformat_minor": 0,
  "metadata": {
    "colab": {
      "provenance": [],
      "authorship_tag": "ABX9TyNHtQaf0Q61sY6OKYXCrROh",
      "include_colab_link": true
    },
    "kernelspec": {
      "name": "python3",
      "display_name": "Python 3"
    },
    "language_info": {
      "name": "python"
    }
  },
  "cells": [
    {
      "cell_type": "markdown",
      "metadata": {
        "id": "view-in-github",
        "colab_type": "text"
      },
      "source": [
        "<a href=\"https://colab.research.google.com/github/ItsFreakinDay/hybridCompSys/blob/task2/task2.ipynb\" target=\"_parent\"><img src=\"https://colab.research.google.com/assets/colab-badge.svg\" alt=\"Open In Colab\"/></a>"
      ]
    },
    {
      "cell_type": "code",
      "execution_count": 5,
      "metadata": {
        "id": "SK_gcgoitMY6",
        "colab": {
          "base_uri": "https://localhost:8080/"
        },
        "outputId": "4f6d472b-22cb-4b22-9915-fa58c3d920d0"
      },
      "outputs": [
        {
          "output_type": "stream",
          "name": "stdout",
          "text": [
            "Overwriting task2.cu\n"
          ]
        }
      ],
      "source": [
        "%%writefile task2.cu\n",
        "#include <torch/extension.h>\n",
        "\n",
        "__global__ void d_divide(int *a, int scalar, int *c, int n) {\n",
        "    int i = blockDim.x * blockIdx.x + threadIdx.x;\n",
        "    if (i < n) {\n",
        "        c[i] = a[i] / scalar;\n",
        "    }\n",
        "}\n",
        "\n",
        "#define CHECK_CUDA(x) TORCH_CHECK(x.device().is_cuda(), #x \" must be a CUDA tensor\")\n",
        "#define CHECK_CONTIGUOUS(x) TORCH_CHECK(x.is_contiguous(), #x \" must be contiguous\")\n",
        "#define CHECK_INPUT(x) CHECK_CUDA(x); CHECK_CONTIGUOUS(x)\n",
        "#define CHECK_SIZE(x, y) TORCH_CHECK(x.is_same_size(y), #y \" must be the same size as \" #x)\n",
        "\n",
        "const int block_size = 128;\n",
        "\n",
        "__forceinline__ int calc_grid_size(int m) {\n",
        "    return (m + block_size - 1) / block_size;\n",
        "}\n",
        "\n",
        "torch::Tensor divide(torch::Tensor a, int scalar) {\n",
        "    CHECK_INPUT(a);\n",
        "\n",
        "    auto c = torch::empty_like(a);\n",
        "    int n = a.numel();\n",
        "\n",
        "    d_divide<<<calc_grid_size(n), block_size>>>(\n",
        "        a.data_ptr<int>(), // Изменено на int\n",
        "        scalar,\n",
        "        c.data_ptr<int>(), // Изменено на int\n",
        "        n\n",
        "    );\n",
        "\n",
        "    return c;\n",
        "}\n",
        "\n",
        "PYBIND11_MODULE(TORCH_EXTENSION_NAME, m) {\n",
        "    m.def(\"my_divide\", &divide, \"Custom integer division\");\n",
        "}\n"
      ]
    },
    {
      "cell_type": "code",
      "source": [
        "!nvcc -o qwert task2.cu"
      ],
      "metadata": {
        "colab": {
          "base_uri": "https://localhost:8080/"
        },
        "id": "-eH2Gkjgso2x",
        "outputId": "1b135408-9c9e-4643-a7ec-cd72f51310e7"
      },
      "execution_count": 6,
      "outputs": [
        {
          "output_type": "stream",
          "name": "stdout",
          "text": [
            "\u001b[01m\u001b[Ktask2.cu:1:10:\u001b[m\u001b[K \u001b[01;31m\u001b[Kfatal error: \u001b[m\u001b[Ktorch/extension.h: No such file or directory\n",
            "    1 | #include \u001b[01;31m\u001b[K<torch/extension.h>\u001b[m\u001b[K\n",
            "      |          \u001b[01;31m\u001b[K^~~~~~~~~~~~~~~~~~~\u001b[m\u001b[K\n",
            "compilation terminated.\n"
          ]
        }
      ]
    },
    {
      "cell_type": "code",
      "source": [
        "\n",
        "!cd .git"
      ],
      "metadata": {
        "colab": {
          "base_uri": "https://localhost:8080/"
        },
        "id": "cPwcW5Amu7Vg",
        "outputId": "9fbda9b9-a95c-43ae-ff56-d26643c4e230"
      },
      "execution_count": 17,
      "outputs": [
        {
          "output_type": "stream",
          "name": "stdout",
          "text": [
            "/bin/bash: line 1: cd: .git: No such file or directory\n"
          ]
        }
      ]
    }
  ]
}