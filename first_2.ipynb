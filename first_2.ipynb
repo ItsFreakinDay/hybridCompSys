{
  "cells": [
    {
      "cell_type": "markdown",
      "metadata": {
        "id": "view-in-github",
        "colab_type": "text"
      },
      "source": [
        "<a href=\"https://colab.research.google.com/github/ItsFreakinDay/hybridCompSys/blob/task1/first_2.ipynb\" target=\"_parent\"><img src=\"https://colab.research.google.com/assets/colab-badge.svg\" alt=\"Open In Colab\"/></a>"
      ]
    },
    {
      "cell_type": "code",
      "source": [
        "%%writefile copy.cu\n",
        "#include <cuda_runtime.h>\n",
        "#include <curand_kernel.h>\n",
        "\n",
        "extern \"C\" {\n",
        "#include <stdio.h>\n",
        "\n",
        "__host__ void h_divide(float* a, int scalar, int* c, int n) {\n",
        "    for (int i = 0; i < n; i++) {\n",
        "        c[i] = static_cast<int>(a[i]) / scalar;\n",
        "    }\n",
        "}\n",
        "\n",
        "__global__ void d_divide(float* a, int scalar, int* c, int n) {\n",
        "    int i = blockDim.x * blockIdx.x + threadIdx.x;\n",
        "\n",
        "    if (i < n) {\n",
        "        c[i] = static_cast<int>(a[i]) / scalar;\n",
        "    }\n",
        "}\n",
        "\n",
        "__global__ void d_fill_uniform(\n",
        "    float* a, float* b, int n, float r, unsigned long long seed) {\n",
        "    int i = blockDim.x * blockIdx.x + threadIdx.x;\n",
        "\n",
        "    if (i < n) {\n",
        "        curandState_t state;\n",
        "        curand_init(seed, i, 0, &state);\n",
        "\n",
        "        a[i] = -r + 2 * r * curand_uniform(&state);\n",
        "        b[i] = -r + 2 * r * curand_uniform(&state);\n",
        "    }\n",
        "}\n",
        "\n",
        "float compare(int* a, int* b, int n, int eps) {\n",
        "    int diff = 0;\n",
        "\n",
        "    for (int i = 0; i < n; i++) {\n",
        "        diff = abs(a[i] - b[i]);\n",
        "        if (diff >= eps) {\n",
        "            return static_cast<float>(diff);\n",
        "        }\n",
        "    }\n",
        "\n",
        "    return static_cast<float>(diff);\n",
        "}\n",
        "}\n",
        "\n",
        "#ifndef REDEFINE\n",
        "#define VEC_LEN 51200000\n",
        "#define VEC_LEN_INC 512000\n",
        "#define CHECK_FIRST 51200\n",
        "#define BLOCK_SIZE 128\n",
        "#define FNAME_STAMPS \"timings.stmp\"\n",
        "#define PRECISION 10e-10\n",
        "#define SEED 27\n",
        "#define VEC_MAX_ABS_VAL 101\n",
        "#endif\n",
        "\n",
        "#define VEC_MEM_SIZE (VEC_LEN * sizeof(float))\n",
        "#define ts_to_ms(ts) (ts.tv_sec * 10e3 + ts.tv_nsec * 10e-6)\n",
        "#define calc_grid_size(m) ((m + BLOCK_SIZE - 1) / BLOCK_SIZE)\n",
        "\n",
        "int main() {\n",
        "    float* h_a __attribute__((aligned(64)));\n",
        "    float* h_b __attribute__((aligned(64)));\n",
        "    int* h_c __attribute__((aligned(64)));\n",
        "    int* h_d __attribute__((aligned(64)));\n",
        "\n",
        "    h_a = (float*)malloc(VEC_MEM_SIZE);\n",
        "    h_b = (float*)malloc(VEC_MEM_SIZE);\n",
        "    h_c = (int*)malloc(VEC_MEM_SIZE);\n",
        "    h_d = (int*)malloc(VEC_MEM_SIZE);\n",
        "\n",
        "    float* d_a, *d_b;\n",
        "    int* d_c;\n",
        "    cudaMalloc((void**)&d_a, VEC_MEM_SIZE);\n",
        "    cudaMalloc((void**)&d_b, VEC_MEM_SIZE);\n",
        "    cudaMalloc((void**)&d_c, VEC_MEM_SIZE);\n",
        "\n",
        "    d_fill_uniform<<<calc_grid_size(VEC_LEN), BLOCK_SIZE>>>(\n",
        "        d_a, d_b, VEC_LEN, VEC_MAX_ABS_VAL, SEED);\n",
        "    cudaMemcpy(h_a, d_a, VEC_MEM_SIZE, cudaMemcpyDeviceToHost);\n",
        "    cudaMemcpy(h_b, d_b, VEC_MEM_SIZE, cudaMemcpyDeviceToHost);\n",
        "\n",
        "    int scalar = 2; // Ввод значения скаляра\n",
        "\n",
        "    h_divide(h_a, scalar, h_c, CHECK_FIRST);\n",
        "    d_divide<<<calc_grid_size(CHECK_FIRST), BLOCK_SIZE>>>(d_a, scalar, d_c, CHECK_FIRST);\n",
        "    cudaMemcpy(h_d, d_c, CHECK_FIRST * sizeof(int), cudaMemcpyDeviceToHost);\n",
        "\n",
        "    if (compare(h_c, h_d, CHECK_FIRST, PRECISION) > PRECISION) {\n",
        "        printf(\"Panic!\\n\");\n",
        "        return -1;\n",
        "    }\n",
        "\n",
        "    float h_time;\n",
        "    timespec h_start, h_stop;\n",
        "\n",
        "    float d_time;\n",
        "    cudaEvent_t d_start, d_stop;\n",
        "    cudaEventCreate(&d_start);\n",
        "    cudaEventCreate(&d_stop);\n",
        "\n",
        "    FILE* file = fopen(FNAME_STAMPS, \"w\");\n",
        "    fprintf(file, \"Vector Length, CPU Time, GPU Time\\n\");\n",
        "\n",
        "    for (int m = VEC_LEN_INC; m <= VEC_LEN; m += VEC_LEN_INC) {\n",
        "        clock_gettime(CLOCK_PROCESS_CPUTIME_ID, &h_start);\n",
        "        h_divide(h_a, scalar, h_c, m);\n",
        "        clock_gettime(CLOCK_PROCESS_CPUTIME_ID, &h_stop);\n",
        "        h_time = (ts_to_ms(h_stop) - ts_to_ms(h_start)); // time in ms\n",
        "\n",
        "        cudaEventRecord(d_start);\n",
        "        d_divide<<<calc_grid_size(m), BLOCK_SIZE>>>(d_a, scalar, d_c, m);\n",
        "        cudaEventRecord(d_stop);\n",
        "        cudaEventSynchronize(d_stop);\n",
        "        cudaEventElapsedTime(&d_time, d_start, d_stop); // time in ms\n",
        "\n",
        "        fprintf(file, \"%d, %f, %f\\n\", m, h_time, d_time);\n",
        "    }\n",
        "\n",
        "    free(h_a);\n",
        "    free(h_b);\n",
        "    free(h_c);\n",
        "    free(h_d);\n",
        "\n",
        "    cudaFree(d_a);\n",
        "    cudaFree(d_b);\n",
        "    cudaFree(d_c);\n",
        "\n",
        "    fclose(file);\n",
        "\n",
        "    return 0;\n",
        "}\n"
      ],
      "metadata": {
        "id": "U03PUeNC_YEC",
        "outputId": "a47f1062-7812-4c81-cf59-0a5a49933b7e",
        "colab": {
          "base_uri": "https://localhost:8080/"
        }
      },
      "execution_count": 35,
      "outputs": [
        {
          "output_type": "stream",
          "name": "stdout",
          "text": [
            "Overwriting copy.cu\n"
          ]
        }
      ]
    },
    {
      "cell_type": "code",
      "execution_count": 39,
      "metadata": {
        "id": "zW1I-fbU5Rlg"
      },
      "outputs": [],
      "source": [
        "!nvcc -o qwert copy.cu"
      ]
    },
    {
      "cell_type": "code",
      "source": [
        "!./qwert"
      ],
      "metadata": {
        "id": "2XMhGWY02rZo"
      },
      "execution_count": 40,
      "outputs": []
    },
    {
      "cell_type": "code",
      "source": [
        "import pandas as pd\n",
        "import plotly.graph_objects as go\n",
        "import argparse\n",
        "\n",
        "\n",
        "def make_plot(df):\n",
        "    fig = go.Figure(\n",
        "        data=[\n",
        "            go.Scatter(\n",
        "                x=df[\"Vector Length\"], y=df[\"CPU Time\"],\n",
        "                mode=\"lines+markers\",\n",
        "                line=dict(dash='solid', color='indianred'),\n",
        "                name=\"CPU\"\n",
        "            ),\n",
        "            go.Scatter(\n",
        "                x=df[\"Vector Length\"], y=df[\"GPU Time\"],\n",
        "                mode=\"lines+markers\",\n",
        "                line=dict(dash='solid', color='limegreen'),\n",
        "                name=\"GPU\"\n",
        "            )\n",
        "        ],\n",
        "\n",
        "        layout=go.Layout(\n",
        "            xaxis=dict(\n",
        "                range=[df[\"Vector Length\"].min(), df[\"Vector Length\"].max()],\n",
        "                autorange=True,\n",
        "                title_text=\"Vector Length\"\n",
        "            ),\n",
        "            yaxis=dict(autorange=True, title_text=\"Time, ms\"),\n",
        "            title_text=\"Real complexity of operation\",\n",
        "            hovermode=\"closest\",\n",
        "            title_x=0.5,\n",
        "            template=\"plotly_dark\"),\n",
        "    )\n",
        "\n",
        "    fig.show()\n",
        "\n",
        "df = pd.read_csv(\"timings.stmp\", skipinitialspace=True)\n",
        "make_plot(df)"
      ],
      "metadata": {
        "colab": {
          "base_uri": "https://localhost:8080/",
          "height": 542
        },
        "id": "SptqnVEU5LcK",
        "outputId": "7116404f-69c2-47a2-e130-a4b4c6771529"
      },
      "execution_count": 41,
      "outputs": [
        {
          "output_type": "display_data",
          "data": {
            "text/html": [
              "<html>\n",
              "<head><meta charset=\"utf-8\" /></head>\n",
              "<body>\n",
              "    <div>            <script src=\"https://cdnjs.cloudflare.com/ajax/libs/mathjax/2.7.5/MathJax.js?config=TeX-AMS-MML_SVG\"></script><script type=\"text/javascript\">if (window.MathJax && window.MathJax.Hub && window.MathJax.Hub.Config) {window.MathJax.Hub.Config({SVG: {font: \"STIX-Web\"}});}</script>                <script type=\"text/javascript\">window.PlotlyConfig = {MathJaxConfig: 'local'};</script>\n",
              "        <script charset=\"utf-8\" src=\"https://cdn.plot.ly/plotly-2.24.1.min.js\"></script>                <div id=\"26e3dc24-d99b-41cd-aaf7-96152c6aafee\" class=\"plotly-graph-div\" style=\"height:525px; width:100%;\"></div>            <script type=\"text/javascript\">                                    window.PLOTLYENV=window.PLOTLYENV || {};                                    if (document.getElementById(\"26e3dc24-d99b-41cd-aaf7-96152c6aafee\")) {                    Plotly.newPlot(                        \"26e3dc24-d99b-41cd-aaf7-96152c6aafee\",                        [{\"line\":{\"color\":\"indianred\",\"dash\":\"solid\"},\"mode\":\"lines+markers\",\"name\":\"CPU\",\"x\":[512000,1024000,1536000,2048000,2560000,3072000,3584000,4096000,4608000,5120000,5632000,6144000,6656000,7168000,7680000,8192000,8704000,9216000,9728000,10240000,10752000,11264000,11776000,12288000,12800000,13312000,13824000,14336000,14848000,15360000,15872000,16384000,16896000,17408000,17920000,18432000,18944000,19456000,19968000,20480000,20992000,21504000,22016000,22528000,23040000,23552000,24064000,24576000,25088000,25600000,26112000,26624000,27136000,27648000,28160000,28672000,29184000,29696000,30208000,30720000,31232000,31744000,32256000,32768000,33280000,33792000,34304000,34816000,35328000,35840000,36352000,36864000,37376000,37888000,38400000,38912000,39424000,39936000,40448000,40960000,41472000,41984000,42496000,43008000,43520000,44032000,44544000,45056000,45568000,46080000,46592000,47104000,47616000,48128000,48640000,49152000,49664000,50176000,50688000,51200000],\"y\":[26.41431,46.097149,63.58683,86.17186,110.636177,122.395508,143.552307,159.352127,181.061066,202.886765,222.657455,247.75293,260.435516,280.431824,304.408661,323.013702,341.396545,354.84201,371.988403,457.296143,462.463348,448.996887,456.303131,466.066528,486.184235,521.690002,550.151489,575.070679,584.629211,574.92804,590.066772,613.315674,640.34491,678.5755,681.652649,704.538086,740.076538,788.73114,751.119751,779.967651,794.772827,824.63385,871.649231,880.053955,898.197266,902.62146,950.932556,927.410828,972.305725,1028.384033,991.825134,988.489502,1038.800049,1648.645996,1753.19104,1774.355835,1781.414795,1801.285522,1833.446167,1902.187012,1894.088379,1948.12085,2350.05127,2134.33374,1674.928223,1256.89209,1274.289917,1305.243286,1405.779541,1323.643555,1385.899902,1381.890991,1402.822388,1482.335938,1419.941895,1515.575928,1603.784912,1506.404297,1528.754272,1536.773193,1523.59375,1555.041992,1697.822021,1606.530762,1628.130371,1634.635254,1638.719971,1681.719971,1782.104248,1738.740234,1728.189453,1767.740479,1802.148926,1883.262695,1858.765869,1821.190796,2057.200928,1931.433716,1967.724365,1959.311768],\"type\":\"scatter\"},{\"line\":{\"color\":\"limegreen\",\"dash\":\"solid\"},\"mode\":\"lines+markers\",\"name\":\"GPU\",\"x\":[512000,1024000,1536000,2048000,2560000,3072000,3584000,4096000,4608000,5120000,5632000,6144000,6656000,7168000,7680000,8192000,8704000,9216000,9728000,10240000,10752000,11264000,11776000,12288000,12800000,13312000,13824000,14336000,14848000,15360000,15872000,16384000,16896000,17408000,17920000,18432000,18944000,19456000,19968000,20480000,20992000,21504000,22016000,22528000,23040000,23552000,24064000,24576000,25088000,25600000,26112000,26624000,27136000,27648000,28160000,28672000,29184000,29696000,30208000,30720000,31232000,31744000,32256000,32768000,33280000,33792000,34304000,34816000,35328000,35840000,36352000,36864000,37376000,37888000,38400000,38912000,39424000,39936000,40448000,40960000,41472000,41984000,42496000,43008000,43520000,44032000,44544000,45056000,45568000,46080000,46592000,47104000,47616000,48128000,48640000,49152000,49664000,50176000,50688000,51200000],\"y\":[0.024608,0.028192,0.061152,0.077824,0.096576,0.11264,0.131072,0.147456,0.167936,0.186048,0.202752,0.22144,0.240768,0.253632,0.272416,0.2872,0.306752,0.3224,0.336448,0.352256,0.374784,0.387072,0.405056,0.423552,0.437728,0.452608,0.47104,0.48736,0.504928,0.518624,0.536576,0.562208,0.575808,0.58624,0.6032,0.62112,0.638976,0.66112,0.679264,0.77824,0.794976,0.817152,0.835936,0.855296,0.871008,0.890848,0.909792,0.929792,0.949024,0.966784,0.985088,1.00352,1.02384,1.050048,1.078912,1.085344,1.122912,1.120224,1.142272,1.162784,1.18032,1.200128,1.216256,1.238048,1.251584,1.273024,1.287136,1.306816,1.32656,1.342112,1.363648,1.382816,1.403008,1.419968,1.439296,1.458176,1.474688,1.495808,1.513472,1.534016,1.550208,1.574112,1.589536,1.624512,1.625664,1.64624,1.664544,1.681344,1.702784,1.71824,1.739104,1.758464,1.77648,1.800096,1.814528,1.831712,1.853568,1.87168,1.89136,1.910912],\"type\":\"scatter\"}],                        {\"hovermode\":\"closest\",\"template\":{\"data\":{\"barpolar\":[{\"marker\":{\"line\":{\"color\":\"rgb(17,17,17)\",\"width\":0.5},\"pattern\":{\"fillmode\":\"overlay\",\"size\":10,\"solidity\":0.2}},\"type\":\"barpolar\"}],\"bar\":[{\"error_x\":{\"color\":\"#f2f5fa\"},\"error_y\":{\"color\":\"#f2f5fa\"},\"marker\":{\"line\":{\"color\":\"rgb(17,17,17)\",\"width\":0.5},\"pattern\":{\"fillmode\":\"overlay\",\"size\":10,\"solidity\":0.2}},\"type\":\"bar\"}],\"carpet\":[{\"aaxis\":{\"endlinecolor\":\"#A2B1C6\",\"gridcolor\":\"#506784\",\"linecolor\":\"#506784\",\"minorgridcolor\":\"#506784\",\"startlinecolor\":\"#A2B1C6\"},\"baxis\":{\"endlinecolor\":\"#A2B1C6\",\"gridcolor\":\"#506784\",\"linecolor\":\"#506784\",\"minorgridcolor\":\"#506784\",\"startlinecolor\":\"#A2B1C6\"},\"type\":\"carpet\"}],\"choropleth\":[{\"colorbar\":{\"outlinewidth\":0,\"ticks\":\"\"},\"type\":\"choropleth\"}],\"contourcarpet\":[{\"colorbar\":{\"outlinewidth\":0,\"ticks\":\"\"},\"type\":\"contourcarpet\"}],\"contour\":[{\"colorbar\":{\"outlinewidth\":0,\"ticks\":\"\"},\"colorscale\":[[0.0,\"#0d0887\"],[0.1111111111111111,\"#46039f\"],[0.2222222222222222,\"#7201a8\"],[0.3333333333333333,\"#9c179e\"],[0.4444444444444444,\"#bd3786\"],[0.5555555555555556,\"#d8576b\"],[0.6666666666666666,\"#ed7953\"],[0.7777777777777778,\"#fb9f3a\"],[0.8888888888888888,\"#fdca26\"],[1.0,\"#f0f921\"]],\"type\":\"contour\"}],\"heatmapgl\":[{\"colorbar\":{\"outlinewidth\":0,\"ticks\":\"\"},\"colorscale\":[[0.0,\"#0d0887\"],[0.1111111111111111,\"#46039f\"],[0.2222222222222222,\"#7201a8\"],[0.3333333333333333,\"#9c179e\"],[0.4444444444444444,\"#bd3786\"],[0.5555555555555556,\"#d8576b\"],[0.6666666666666666,\"#ed7953\"],[0.7777777777777778,\"#fb9f3a\"],[0.8888888888888888,\"#fdca26\"],[1.0,\"#f0f921\"]],\"type\":\"heatmapgl\"}],\"heatmap\":[{\"colorbar\":{\"outlinewidth\":0,\"ticks\":\"\"},\"colorscale\":[[0.0,\"#0d0887\"],[0.1111111111111111,\"#46039f\"],[0.2222222222222222,\"#7201a8\"],[0.3333333333333333,\"#9c179e\"],[0.4444444444444444,\"#bd3786\"],[0.5555555555555556,\"#d8576b\"],[0.6666666666666666,\"#ed7953\"],[0.7777777777777778,\"#fb9f3a\"],[0.8888888888888888,\"#fdca26\"],[1.0,\"#f0f921\"]],\"type\":\"heatmap\"}],\"histogram2dcontour\":[{\"colorbar\":{\"outlinewidth\":0,\"ticks\":\"\"},\"colorscale\":[[0.0,\"#0d0887\"],[0.1111111111111111,\"#46039f\"],[0.2222222222222222,\"#7201a8\"],[0.3333333333333333,\"#9c179e\"],[0.4444444444444444,\"#bd3786\"],[0.5555555555555556,\"#d8576b\"],[0.6666666666666666,\"#ed7953\"],[0.7777777777777778,\"#fb9f3a\"],[0.8888888888888888,\"#fdca26\"],[1.0,\"#f0f921\"]],\"type\":\"histogram2dcontour\"}],\"histogram2d\":[{\"colorbar\":{\"outlinewidth\":0,\"ticks\":\"\"},\"colorscale\":[[0.0,\"#0d0887\"],[0.1111111111111111,\"#46039f\"],[0.2222222222222222,\"#7201a8\"],[0.3333333333333333,\"#9c179e\"],[0.4444444444444444,\"#bd3786\"],[0.5555555555555556,\"#d8576b\"],[0.6666666666666666,\"#ed7953\"],[0.7777777777777778,\"#fb9f3a\"],[0.8888888888888888,\"#fdca26\"],[1.0,\"#f0f921\"]],\"type\":\"histogram2d\"}],\"histogram\":[{\"marker\":{\"pattern\":{\"fillmode\":\"overlay\",\"size\":10,\"solidity\":0.2}},\"type\":\"histogram\"}],\"mesh3d\":[{\"colorbar\":{\"outlinewidth\":0,\"ticks\":\"\"},\"type\":\"mesh3d\"}],\"parcoords\":[{\"line\":{\"colorbar\":{\"outlinewidth\":0,\"ticks\":\"\"}},\"type\":\"parcoords\"}],\"pie\":[{\"automargin\":true,\"type\":\"pie\"}],\"scatter3d\":[{\"line\":{\"colorbar\":{\"outlinewidth\":0,\"ticks\":\"\"}},\"marker\":{\"colorbar\":{\"outlinewidth\":0,\"ticks\":\"\"}},\"type\":\"scatter3d\"}],\"scattercarpet\":[{\"marker\":{\"colorbar\":{\"outlinewidth\":0,\"ticks\":\"\"}},\"type\":\"scattercarpet\"}],\"scattergeo\":[{\"marker\":{\"colorbar\":{\"outlinewidth\":0,\"ticks\":\"\"}},\"type\":\"scattergeo\"}],\"scattergl\":[{\"marker\":{\"line\":{\"color\":\"#283442\"}},\"type\":\"scattergl\"}],\"scattermapbox\":[{\"marker\":{\"colorbar\":{\"outlinewidth\":0,\"ticks\":\"\"}},\"type\":\"scattermapbox\"}],\"scatterpolargl\":[{\"marker\":{\"colorbar\":{\"outlinewidth\":0,\"ticks\":\"\"}},\"type\":\"scatterpolargl\"}],\"scatterpolar\":[{\"marker\":{\"colorbar\":{\"outlinewidth\":0,\"ticks\":\"\"}},\"type\":\"scatterpolar\"}],\"scatter\":[{\"marker\":{\"line\":{\"color\":\"#283442\"}},\"type\":\"scatter\"}],\"scatterternary\":[{\"marker\":{\"colorbar\":{\"outlinewidth\":0,\"ticks\":\"\"}},\"type\":\"scatterternary\"}],\"surface\":[{\"colorbar\":{\"outlinewidth\":0,\"ticks\":\"\"},\"colorscale\":[[0.0,\"#0d0887\"],[0.1111111111111111,\"#46039f\"],[0.2222222222222222,\"#7201a8\"],[0.3333333333333333,\"#9c179e\"],[0.4444444444444444,\"#bd3786\"],[0.5555555555555556,\"#d8576b\"],[0.6666666666666666,\"#ed7953\"],[0.7777777777777778,\"#fb9f3a\"],[0.8888888888888888,\"#fdca26\"],[1.0,\"#f0f921\"]],\"type\":\"surface\"}],\"table\":[{\"cells\":{\"fill\":{\"color\":\"#506784\"},\"line\":{\"color\":\"rgb(17,17,17)\"}},\"header\":{\"fill\":{\"color\":\"#2a3f5f\"},\"line\":{\"color\":\"rgb(17,17,17)\"}},\"type\":\"table\"}]},\"layout\":{\"annotationdefaults\":{\"arrowcolor\":\"#f2f5fa\",\"arrowhead\":0,\"arrowwidth\":1},\"autotypenumbers\":\"strict\",\"coloraxis\":{\"colorbar\":{\"outlinewidth\":0,\"ticks\":\"\"}},\"colorscale\":{\"diverging\":[[0,\"#8e0152\"],[0.1,\"#c51b7d\"],[0.2,\"#de77ae\"],[0.3,\"#f1b6da\"],[0.4,\"#fde0ef\"],[0.5,\"#f7f7f7\"],[0.6,\"#e6f5d0\"],[0.7,\"#b8e186\"],[0.8,\"#7fbc41\"],[0.9,\"#4d9221\"],[1,\"#276419\"]],\"sequential\":[[0.0,\"#0d0887\"],[0.1111111111111111,\"#46039f\"],[0.2222222222222222,\"#7201a8\"],[0.3333333333333333,\"#9c179e\"],[0.4444444444444444,\"#bd3786\"],[0.5555555555555556,\"#d8576b\"],[0.6666666666666666,\"#ed7953\"],[0.7777777777777778,\"#fb9f3a\"],[0.8888888888888888,\"#fdca26\"],[1.0,\"#f0f921\"]],\"sequentialminus\":[[0.0,\"#0d0887\"],[0.1111111111111111,\"#46039f\"],[0.2222222222222222,\"#7201a8\"],[0.3333333333333333,\"#9c179e\"],[0.4444444444444444,\"#bd3786\"],[0.5555555555555556,\"#d8576b\"],[0.6666666666666666,\"#ed7953\"],[0.7777777777777778,\"#fb9f3a\"],[0.8888888888888888,\"#fdca26\"],[1.0,\"#f0f921\"]]},\"colorway\":[\"#636efa\",\"#EF553B\",\"#00cc96\",\"#ab63fa\",\"#FFA15A\",\"#19d3f3\",\"#FF6692\",\"#B6E880\",\"#FF97FF\",\"#FECB52\"],\"font\":{\"color\":\"#f2f5fa\"},\"geo\":{\"bgcolor\":\"rgb(17,17,17)\",\"lakecolor\":\"rgb(17,17,17)\",\"landcolor\":\"rgb(17,17,17)\",\"showlakes\":true,\"showland\":true,\"subunitcolor\":\"#506784\"},\"hoverlabel\":{\"align\":\"left\"},\"hovermode\":\"closest\",\"mapbox\":{\"style\":\"dark\"},\"paper_bgcolor\":\"rgb(17,17,17)\",\"plot_bgcolor\":\"rgb(17,17,17)\",\"polar\":{\"angularaxis\":{\"gridcolor\":\"#506784\",\"linecolor\":\"#506784\",\"ticks\":\"\"},\"bgcolor\":\"rgb(17,17,17)\",\"radialaxis\":{\"gridcolor\":\"#506784\",\"linecolor\":\"#506784\",\"ticks\":\"\"}},\"scene\":{\"xaxis\":{\"backgroundcolor\":\"rgb(17,17,17)\",\"gridcolor\":\"#506784\",\"gridwidth\":2,\"linecolor\":\"#506784\",\"showbackground\":true,\"ticks\":\"\",\"zerolinecolor\":\"#C8D4E3\"},\"yaxis\":{\"backgroundcolor\":\"rgb(17,17,17)\",\"gridcolor\":\"#506784\",\"gridwidth\":2,\"linecolor\":\"#506784\",\"showbackground\":true,\"ticks\":\"\",\"zerolinecolor\":\"#C8D4E3\"},\"zaxis\":{\"backgroundcolor\":\"rgb(17,17,17)\",\"gridcolor\":\"#506784\",\"gridwidth\":2,\"linecolor\":\"#506784\",\"showbackground\":true,\"ticks\":\"\",\"zerolinecolor\":\"#C8D4E3\"}},\"shapedefaults\":{\"line\":{\"color\":\"#f2f5fa\"}},\"sliderdefaults\":{\"bgcolor\":\"#C8D4E3\",\"bordercolor\":\"rgb(17,17,17)\",\"borderwidth\":1,\"tickwidth\":0},\"ternary\":{\"aaxis\":{\"gridcolor\":\"#506784\",\"linecolor\":\"#506784\",\"ticks\":\"\"},\"baxis\":{\"gridcolor\":\"#506784\",\"linecolor\":\"#506784\",\"ticks\":\"\"},\"bgcolor\":\"rgb(17,17,17)\",\"caxis\":{\"gridcolor\":\"#506784\",\"linecolor\":\"#506784\",\"ticks\":\"\"}},\"title\":{\"x\":0.05},\"updatemenudefaults\":{\"bgcolor\":\"#506784\",\"borderwidth\":0},\"xaxis\":{\"automargin\":true,\"gridcolor\":\"#283442\",\"linecolor\":\"#506784\",\"ticks\":\"\",\"title\":{\"standoff\":15},\"zerolinecolor\":\"#283442\",\"zerolinewidth\":2},\"yaxis\":{\"automargin\":true,\"gridcolor\":\"#283442\",\"linecolor\":\"#506784\",\"ticks\":\"\",\"title\":{\"standoff\":15},\"zerolinecolor\":\"#283442\",\"zerolinewidth\":2}}},\"title\":{\"text\":\"Real complexity of operation\",\"x\":0.5},\"xaxis\":{\"autorange\":true,\"range\":[512000,51200000],\"title\":{\"text\":\"Vector Length\"}},\"yaxis\":{\"autorange\":true,\"title\":{\"text\":\"Time, ms\"}}},                        {\"responsive\": true}                    ).then(function(){\n",
              "                            \n",
              "var gd = document.getElementById('26e3dc24-d99b-41cd-aaf7-96152c6aafee');\n",
              "var x = new MutationObserver(function (mutations, observer) {{\n",
              "        var display = window.getComputedStyle(gd).display;\n",
              "        if (!display || display === 'none') {{\n",
              "            console.log([gd, 'removed!']);\n",
              "            Plotly.purge(gd);\n",
              "            observer.disconnect();\n",
              "        }}\n",
              "}});\n",
              "\n",
              "// Listen for the removal of the full notebook cells\n",
              "var notebookContainer = gd.closest('#notebook-container');\n",
              "if (notebookContainer) {{\n",
              "    x.observe(notebookContainer, {childList: true});\n",
              "}}\n",
              "\n",
              "// Listen for the clearing of the current output cell\n",
              "var outputEl = gd.closest('.output');\n",
              "if (outputEl) {{\n",
              "    x.observe(outputEl, {childList: true});\n",
              "}}\n",
              "\n",
              "                        })                };                            </script>        </div>\n",
              "</body>\n",
              "</html>"
            ]
          },
          "metadata": {}
        }
      ]
    },
    {
      "cell_type": "code",
      "source": [],
      "metadata": {
        "id": "mc2M4xSB7mjZ"
      },
      "execution_count": null,
      "outputs": []
    }
  ],
  "metadata": {
    "accelerator": "GPU",
    "colab": {
      "provenance": [],
      "authorship_tag": "ABX9TyPoQC7p79OPlxWW9qxymOro",
      "include_colab_link": true
    },
    "kernelspec": {
      "display_name": "Python 3",
      "name": "python3"
    },
    "language_info": {
      "name": "python"
    }
  },
  "nbformat": 4,
  "nbformat_minor": 0
}