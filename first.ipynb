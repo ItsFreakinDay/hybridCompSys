{
  "cells": [
    {
      "cell_type": "markdown",
      "metadata": {
        "id": "view-in-github",
        "colab_type": "text"
      },
      "source": [
        "<a href=\"https://colab.research.google.com/github/ItsFreakinDay/hybridCompSys/blob/task1/first.ipynb\" target=\"_parent\"><img src=\"https://colab.research.google.com/assets/colab-badge.svg\" alt=\"Open In Colab\"/></a>"
      ]
    },
    {
      "cell_type": "code",
      "source": [
        "%%writefile copy.cu\n",
        "#include <cuda_runtime.h>\n",
        "#include <curand_kernel.h>\n",
        "\n",
        "extern \"C\" {\n",
        "#include <stdio.h>\n",
        "\n",
        "__host__ void h_divide(float* a, float scalar, float* c, int n) {\n",
        "    for (int i = 0; i < n; i++) {\n",
        "        c[i] = a[i] / scalar;\n",
        "    }\n",
        "}\n",
        "\n",
        "__global__ void d_divide(float* a, float scalar, float* c, int n) {\n",
        "    int i = blockDim.x * blockIdx.x + threadIdx.x;\n",
        "\n",
        "    if (i < n) {\n",
        "        c[i] = a[i] / scalar;\n",
        "    }\n",
        "}\n",
        "\n",
        "__global__ void d_fill_uniform(\n",
        "    float* a, float* b, int n, float r, unsigned long long seed) {\n",
        "    int i = blockDim.x * blockIdx.x + threadIdx.x;\n",
        "\n",
        "    if (i < n) {\n",
        "        curandState_t state;\n",
        "        curand_init(seed, i, 0, &state);\n",
        "\n",
        "        a[i] = -r + 2 * r * curand_uniform(&state);\n",
        "        b[i] = -r + 2 * r * curand_uniform(&state);\n",
        "    }\n",
        "}\n",
        "\n",
        "float compare(float* a, float* b, int n, float eps) {\n",
        "    float diff = 0;\n",
        "\n",
        "    for (int i = 0; i < n; i++) {\n",
        "        diff = fabs(a[i] - b[i]);\n",
        "        if (diff >= eps) {\n",
        "            return diff;\n",
        "        }\n",
        "    }\n",
        "\n",
        "    return diff;\n",
        "}\n",
        "}\n",
        "\n",
        "#ifndef REDEFINE\n",
        "#define VEC_LEN 51200000\n",
        "#define VEC_LEN_INC 512000\n",
        "#define CHECK_FIRST 51200\n",
        "#define BLOCK_SIZE 128\n",
        "#define FNAME_STAMPS \"timings.stmp\"\n",
        "#define PRECISION 10e-10\n",
        "#define SEED 27\n",
        "#define VEC_MAX_ABS_VAL 101\n",
        "#endif\n",
        "\n",
        "#define VEC_MEM_SIZE (VEC_LEN * sizeof(float))\n",
        "#define ts_to_ms(ts) (ts.tv_sec * 10e3 + ts.tv_nsec * 10e-6)\n",
        "#define calc_grid_size(m) ((m + BLOCK_SIZE - 1) / BLOCK_SIZE)\n",
        "\n",
        "int main() {\n",
        "    float* h_a __attribute__((aligned(64)));\n",
        "    float* h_b __attribute__((aligned(64)));\n",
        "    float* h_c __attribute__((aligned(64)));\n",
        "    float* h_d __attribute__((aligned(64)));\n",
        "\n",
        "    h_a = (float*)malloc(VEC_MEM_SIZE);\n",
        "    h_b = (float*)malloc(VEC_MEM_SIZE);\n",
        "    h_c = (float*)malloc(VEC_MEM_SIZE);\n",
        "    h_d = (float*)malloc(VEC_MEM_SIZE);\n",
        "\n",
        "    float* d_a, *d_b, *d_c;\n",
        "    cudaMalloc((void**)&d_a, VEC_MEM_SIZE);\n",
        "    cudaMalloc((void**)&d_b, VEC_MEM_SIZE);\n",
        "    cudaMalloc((void**)&d_c, VEC_MEM_SIZE);\n",
        "\n",
        "    d_fill_uniform<<<calc_grid_size(VEC_LEN), BLOCK_SIZE>>>(\n",
        "        d_a, d_b, VEC_LEN, VEC_MAX_ABS_VAL, SEED);\n",
        "    cudaMemcpy(h_a, d_a, VEC_MEM_SIZE, cudaMemcpyDeviceToHost);\n",
        "    cudaMemcpy(h_b, d_b, VEC_MEM_SIZE, cudaMemcpyDeviceToHost);\n",
        "\n",
        "    float scalar = 2.0f; // Ввод значения скаляра\n",
        "\n",
        "    h_divide(h_a, scalar, h_c, CHECK_FIRST);\n",
        "    d_divide<<<calc_grid_size(CHECK_FIRST), BLOCK_SIZE>>>(d_a, scalar, d_c, CHECK_FIRST);\n",
        "    cudaMemcpy(h_d, d_c, CHECK_FIRST * sizeof(float), cudaMemcpyDeviceToHost);\n",
        "\n",
        "    if (compare(h_c, h_d, CHECK_FIRST, PRECISION) > PRECISION) {\n",
        "        printf(\"Panic!\\n\");\n",
        "        return -1;\n",
        "    }\n",
        "\n",
        "    float h_time;\n",
        "    timespec h_start, h_stop;\n",
        "\n",
        "    float d_time;\n",
        "    cudaEvent_t d_start, d_stop;\n",
        "    cudaEventCreate(&d_start);\n",
        "    cudaEventCreate(&d_stop);\n",
        "\n",
        "    FILE* file = fopen(FNAME_STAMPS, \"w\");\n",
        "    fprintf(file, \"Vector Length, CPU Time, GPU Time\\n\");\n",
        "\n",
        "    for (int m = VEC_LEN_INC; m <= VEC_LEN; m += VEC_LEN_INC) {\n",
        "        clock_gettime(CLOCK_PROCESS_CPUTIME_ID, &h_start);\n",
        "        h_divide(h_a, scalar, h_c, m);\n",
        "        clock_gettime(CLOCK_PROCESS_CPUTIME_ID, &h_stop);\n",
        "        h_time = (ts_to_ms(h_stop) - ts_to_ms(h_start)); // time in ms\n",
        "\n",
        "        cudaEventRecord(d_start);\n",
        "        d_divide<<<calc_grid_size(m), BLOCK_SIZE>>>(d_a, scalar, d_c, m);\n",
        "        cudaEventRecord(d_stop);\n",
        "        cudaEventSynchronize(d_stop);\n",
        "        cudaEventElapsedTime(&d_time, d_start, d_stop); // time in ms\n",
        "\n",
        "        fprintf(file, \"%d, %f, %f\\n\", m, h_time, d_time);\n",
        "    }\n",
        "\n",
        "    free(h_a);\n",
        "    free(h_b);\n",
        "    free(h_c);\n",
        "    free(h_d);\n",
        "\n",
        "    cudaFree(d_a);\n",
        "    cudaFree(d_b);\n",
        "    cudaFree(d_c);\n",
        "\n",
        "    fclose(file);\n",
        "\n",
        "    return 0;\n",
        "}\n"
      ],
      "metadata": {
        "id": "U03PUeNC_YEC",
        "outputId": "007e8e58-baf0-4f54-a149-fe891315e439",
        "colab": {
          "base_uri": "https://localhost:8080/"
        }
      },
      "execution_count": 3,
      "outputs": [
        {
          "output_type": "stream",
          "name": "stdout",
          "text": [
            "Overwriting copy.cu\n"
          ]
        }
      ]
    },
    {
      "cell_type": "code",
      "execution_count": 4,
      "metadata": {
        "id": "zW1I-fbU5Rlg"
      },
      "outputs": [],
      "source": [
        "!nvcc -o qwert copy.cu"
      ]
    },
    {
      "cell_type": "code",
      "source": [
        "!./qwert"
      ],
      "metadata": {
        "id": "2XMhGWY02rZo"
      },
      "execution_count": 5,
      "outputs": []
    },
    {
      "cell_type": "code",
      "source": [
        "import pandas as pd\n",
        "import plotly.graph_objects as go\n",
        "import argparse\n",
        "\n",
        "\n",
        "def make_plot(df):\n",
        "    fig = go.Figure(\n",
        "        data=[\n",
        "            go.Scatter(\n",
        "                x=df[\"Vector Length\"], y=df[\"CPU Time\"],\n",
        "                mode=\"lines+markers\",\n",
        "                line=dict(dash='solid', color='indianred'),\n",
        "                name=\"CPU\"\n",
        "            ),\n",
        "            go.Scatter(\n",
        "                x=df[\"Vector Length\"], y=df[\"GPU Time\"],\n",
        "                mode=\"lines+markers\",\n",
        "                line=dict(dash='solid', color='limegreen'),\n",
        "                name=\"GPU\"\n",
        "            )\n",
        "        ],\n",
        "\n",
        "        layout=go.Layout(\n",
        "            xaxis=dict(\n",
        "                range=[df[\"Vector Length\"].min(), df[\"Vector Length\"].max()],\n",
        "                autorange=True,\n",
        "                title_text=\"Vector Length\"\n",
        "            ),\n",
        "            yaxis=dict(autorange=True, title_text=\"Time, ms\"),\n",
        "            title_text=\"Real complexity of operation\",\n",
        "            hovermode=\"closest\",\n",
        "            title_x=0.5,\n",
        "            template=\"plotly_dark\"),\n",
        "    )\n",
        "\n",
        "    fig.show()\n",
        "\n",
        "df = pd.read_csv(\"timings.stmp\", skipinitialspace=True)\n",
        "make_plot(df)"
      ],
      "metadata": {
        "colab": {
          "base_uri": "https://localhost:8080/",
          "height": 542
        },
        "id": "SptqnVEU5LcK",
        "outputId": "9741d22d-7627-409e-e35b-9509509c05c3"
      },
      "execution_count": 6,
      "outputs": [
        {
          "output_type": "display_data",
          "data": {
            "text/html": [
              "<html>\n",
              "<head><meta charset=\"utf-8\" /></head>\n",
              "<body>\n",
              "    <div>            <script src=\"https://cdnjs.cloudflare.com/ajax/libs/mathjax/2.7.5/MathJax.js?config=TeX-AMS-MML_SVG\"></script><script type=\"text/javascript\">if (window.MathJax && window.MathJax.Hub && window.MathJax.Hub.Config) {window.MathJax.Hub.Config({SVG: {font: \"STIX-Web\"}});}</script>                <script type=\"text/javascript\">window.PlotlyConfig = {MathJaxConfig: 'local'};</script>\n",
              "        <script charset=\"utf-8\" src=\"https://cdn.plot.ly/plotly-2.24.1.min.js\"></script>                <div id=\"35889089-a8c5-4120-b514-c526f8b4b0a7\" class=\"plotly-graph-div\" style=\"height:525px; width:100%;\"></div>            <script type=\"text/javascript\">                                    window.PLOTLYENV=window.PLOTLYENV || {};                                    if (document.getElementById(\"35889089-a8c5-4120-b514-c526f8b4b0a7\")) {                    Plotly.newPlot(                        \"35889089-a8c5-4120-b514-c526f8b4b0a7\",                        [{\"line\":{\"color\":\"indianred\",\"dash\":\"solid\"},\"mode\":\"lines+markers\",\"name\":\"CPU\",\"x\":[512000,1024000,1536000,2048000,2560000,3072000,3584000,4096000,4608000,5120000,5632000,6144000,6656000,7168000,7680000,8192000,8704000,9216000,9728000,10240000,10752000,11264000,11776000,12288000,12800000,13312000,13824000,14336000,14848000,15360000,15872000,16384000,16896000,17408000,17920000,18432000,18944000,19456000,19968000,20480000,20992000,21504000,22016000,22528000,23040000,23552000,24064000,24576000,25088000,25600000,26112000,26624000,27136000,27648000,28160000,28672000,29184000,29696000,30208000,30720000,31232000,31744000,32256000,32768000,33280000,33792000,34304000,34816000,35328000,35840000,36352000,36864000,37376000,37888000,38400000,38912000,39424000,39936000,40448000,40960000,41472000,41984000,42496000,43008000,43520000,44032000,44544000,45056000,45568000,46080000,46592000,47104000,47616000,48128000,48640000,49152000,49664000,50176000,50688000,51200000],\"y\":[26.024691,45.570229,63.198761,81.225082,100.259018,121.209641,139.673401,156.126266,175.480667,189.639023,214.120407,228.498474,250.427917,266.808685,285.028717,300.24527,320.112732,338.697662,319.563232,290.420746,318.507507,331.320587,340.794128,351.154572,383.561462,393.825928,392.576385,424.870453,420.519043,434.108154,453.584167,528.465027,603.526245,612.028503,627.576904,634.381592,659.902832,664.482178,692.242371,749.694397,741.966064,761.462769,758.081543,774.841125,795.177368,831.465637,825.474365,850.58905,883.405945,900.918396,906.394348,939.698547,958.734009,970.047729,972.888611,1002.272827,1016.204773,840.143005,858.152771,913.467102,946.154419,926.344788,943.368591,949.212646,942.490479,957.345703,984.050476,988.420105,1015.584961,1031.641846,1080.908325,1057.78186,1084.138184,1094.189087,1084.876709,1136.329712,1146.284668,1143.394409,1157.034912,1215.796631,1228.288086,1208.067749,1259.625488,1239.588257,1308.158203,1275.666016,1347.562378,1380.866455,1319.549683,1345.019531,1336.828491,1345.525391,1363.824707,1394.141479,1409.525879,1449.918091,1441.861694,1439.227905,1470.06189,1485.289673],\"type\":\"scatter\"},{\"line\":{\"color\":\"limegreen\",\"dash\":\"solid\"},\"mode\":\"lines+markers\",\"name\":\"GPU\",\"x\":[512000,1024000,1536000,2048000,2560000,3072000,3584000,4096000,4608000,5120000,5632000,6144000,6656000,7168000,7680000,8192000,8704000,9216000,9728000,10240000,10752000,11264000,11776000,12288000,12800000,13312000,13824000,14336000,14848000,15360000,15872000,16384000,16896000,17408000,17920000,18432000,18944000,19456000,19968000,20480000,20992000,21504000,22016000,22528000,23040000,23552000,24064000,24576000,25088000,25600000,26112000,26624000,27136000,27648000,28160000,28672000,29184000,29696000,30208000,30720000,31232000,31744000,32256000,32768000,33280000,33792000,34304000,34816000,35328000,35840000,36352000,36864000,37376000,37888000,38400000,38912000,39424000,39936000,40448000,40960000,41472000,41984000,42496000,43008000,43520000,44032000,44544000,45056000,45568000,46080000,46592000,47104000,47616000,48128000,48640000,49152000,49664000,50176000,50688000,51200000],\"y\":[0.024416,0.032064,0.063392,0.079872,0.09696,0.114656,0.130816,0.155648,0.169984,0.185184,0.200704,0.219136,0.236352,0.256,0.271904,0.306112,0.304736,0.323584,0.334176,0.34816,0.366464,0.382976,0.400768,0.415072,0.430688,0.448512,0.463776,0.482464,0.498912,0.514048,0.531712,0.554976,0.573248,0.588288,0.604384,0.61952,0.63584,0.653312,0.671744,0.74752,0.76688,0.794592,0.799808,0.815616,0.833888,0.858688,0.872864,0.891744,0.909664,0.929536,0.94784,0.964608,0.983776,1.007744,1.017856,1.035456,1.052096,1.069312,1.084512,1.101824,1.121888,1.141056,1.158432,1.1776,1.19536,1.214432,1.22928,1.24896,1.268608,1.296384,1.303552,1.325088,1.341248,1.354656,1.378048,1.393344,1.41088,1.431552,1.452544,1.467904,1.484352,1.503264,1.51984,1.53808,1.555904,1.573248,1.594944,1.610048,1.628128,1.648672,1.663904,1.684896,1.699872,1.720288,1.7368,1.754016,1.775616,1.79344,1.810496,1.832992],\"type\":\"scatter\"}],                        {\"hovermode\":\"closest\",\"template\":{\"data\":{\"barpolar\":[{\"marker\":{\"line\":{\"color\":\"rgb(17,17,17)\",\"width\":0.5},\"pattern\":{\"fillmode\":\"overlay\",\"size\":10,\"solidity\":0.2}},\"type\":\"barpolar\"}],\"bar\":[{\"error_x\":{\"color\":\"#f2f5fa\"},\"error_y\":{\"color\":\"#f2f5fa\"},\"marker\":{\"line\":{\"color\":\"rgb(17,17,17)\",\"width\":0.5},\"pattern\":{\"fillmode\":\"overlay\",\"size\":10,\"solidity\":0.2}},\"type\":\"bar\"}],\"carpet\":[{\"aaxis\":{\"endlinecolor\":\"#A2B1C6\",\"gridcolor\":\"#506784\",\"linecolor\":\"#506784\",\"minorgridcolor\":\"#506784\",\"startlinecolor\":\"#A2B1C6\"},\"baxis\":{\"endlinecolor\":\"#A2B1C6\",\"gridcolor\":\"#506784\",\"linecolor\":\"#506784\",\"minorgridcolor\":\"#506784\",\"startlinecolor\":\"#A2B1C6\"},\"type\":\"carpet\"}],\"choropleth\":[{\"colorbar\":{\"outlinewidth\":0,\"ticks\":\"\"},\"type\":\"choropleth\"}],\"contourcarpet\":[{\"colorbar\":{\"outlinewidth\":0,\"ticks\":\"\"},\"type\":\"contourcarpet\"}],\"contour\":[{\"colorbar\":{\"outlinewidth\":0,\"ticks\":\"\"},\"colorscale\":[[0.0,\"#0d0887\"],[0.1111111111111111,\"#46039f\"],[0.2222222222222222,\"#7201a8\"],[0.3333333333333333,\"#9c179e\"],[0.4444444444444444,\"#bd3786\"],[0.5555555555555556,\"#d8576b\"],[0.6666666666666666,\"#ed7953\"],[0.7777777777777778,\"#fb9f3a\"],[0.8888888888888888,\"#fdca26\"],[1.0,\"#f0f921\"]],\"type\":\"contour\"}],\"heatmapgl\":[{\"colorbar\":{\"outlinewidth\":0,\"ticks\":\"\"},\"colorscale\":[[0.0,\"#0d0887\"],[0.1111111111111111,\"#46039f\"],[0.2222222222222222,\"#7201a8\"],[0.3333333333333333,\"#9c179e\"],[0.4444444444444444,\"#bd3786\"],[0.5555555555555556,\"#d8576b\"],[0.6666666666666666,\"#ed7953\"],[0.7777777777777778,\"#fb9f3a\"],[0.8888888888888888,\"#fdca26\"],[1.0,\"#f0f921\"]],\"type\":\"heatmapgl\"}],\"heatmap\":[{\"colorbar\":{\"outlinewidth\":0,\"ticks\":\"\"},\"colorscale\":[[0.0,\"#0d0887\"],[0.1111111111111111,\"#46039f\"],[0.2222222222222222,\"#7201a8\"],[0.3333333333333333,\"#9c179e\"],[0.4444444444444444,\"#bd3786\"],[0.5555555555555556,\"#d8576b\"],[0.6666666666666666,\"#ed7953\"],[0.7777777777777778,\"#fb9f3a\"],[0.8888888888888888,\"#fdca26\"],[1.0,\"#f0f921\"]],\"type\":\"heatmap\"}],\"histogram2dcontour\":[{\"colorbar\":{\"outlinewidth\":0,\"ticks\":\"\"},\"colorscale\":[[0.0,\"#0d0887\"],[0.1111111111111111,\"#46039f\"],[0.2222222222222222,\"#7201a8\"],[0.3333333333333333,\"#9c179e\"],[0.4444444444444444,\"#bd3786\"],[0.5555555555555556,\"#d8576b\"],[0.6666666666666666,\"#ed7953\"],[0.7777777777777778,\"#fb9f3a\"],[0.8888888888888888,\"#fdca26\"],[1.0,\"#f0f921\"]],\"type\":\"histogram2dcontour\"}],\"histogram2d\":[{\"colorbar\":{\"outlinewidth\":0,\"ticks\":\"\"},\"colorscale\":[[0.0,\"#0d0887\"],[0.1111111111111111,\"#46039f\"],[0.2222222222222222,\"#7201a8\"],[0.3333333333333333,\"#9c179e\"],[0.4444444444444444,\"#bd3786\"],[0.5555555555555556,\"#d8576b\"],[0.6666666666666666,\"#ed7953\"],[0.7777777777777778,\"#fb9f3a\"],[0.8888888888888888,\"#fdca26\"],[1.0,\"#f0f921\"]],\"type\":\"histogram2d\"}],\"histogram\":[{\"marker\":{\"pattern\":{\"fillmode\":\"overlay\",\"size\":10,\"solidity\":0.2}},\"type\":\"histogram\"}],\"mesh3d\":[{\"colorbar\":{\"outlinewidth\":0,\"ticks\":\"\"},\"type\":\"mesh3d\"}],\"parcoords\":[{\"line\":{\"colorbar\":{\"outlinewidth\":0,\"ticks\":\"\"}},\"type\":\"parcoords\"}],\"pie\":[{\"automargin\":true,\"type\":\"pie\"}],\"scatter3d\":[{\"line\":{\"colorbar\":{\"outlinewidth\":0,\"ticks\":\"\"}},\"marker\":{\"colorbar\":{\"outlinewidth\":0,\"ticks\":\"\"}},\"type\":\"scatter3d\"}],\"scattercarpet\":[{\"marker\":{\"colorbar\":{\"outlinewidth\":0,\"ticks\":\"\"}},\"type\":\"scattercarpet\"}],\"scattergeo\":[{\"marker\":{\"colorbar\":{\"outlinewidth\":0,\"ticks\":\"\"}},\"type\":\"scattergeo\"}],\"scattergl\":[{\"marker\":{\"line\":{\"color\":\"#283442\"}},\"type\":\"scattergl\"}],\"scattermapbox\":[{\"marker\":{\"colorbar\":{\"outlinewidth\":0,\"ticks\":\"\"}},\"type\":\"scattermapbox\"}],\"scatterpolargl\":[{\"marker\":{\"colorbar\":{\"outlinewidth\":0,\"ticks\":\"\"}},\"type\":\"scatterpolargl\"}],\"scatterpolar\":[{\"marker\":{\"colorbar\":{\"outlinewidth\":0,\"ticks\":\"\"}},\"type\":\"scatterpolar\"}],\"scatter\":[{\"marker\":{\"line\":{\"color\":\"#283442\"}},\"type\":\"scatter\"}],\"scatterternary\":[{\"marker\":{\"colorbar\":{\"outlinewidth\":0,\"ticks\":\"\"}},\"type\":\"scatterternary\"}],\"surface\":[{\"colorbar\":{\"outlinewidth\":0,\"ticks\":\"\"},\"colorscale\":[[0.0,\"#0d0887\"],[0.1111111111111111,\"#46039f\"],[0.2222222222222222,\"#7201a8\"],[0.3333333333333333,\"#9c179e\"],[0.4444444444444444,\"#bd3786\"],[0.5555555555555556,\"#d8576b\"],[0.6666666666666666,\"#ed7953\"],[0.7777777777777778,\"#fb9f3a\"],[0.8888888888888888,\"#fdca26\"],[1.0,\"#f0f921\"]],\"type\":\"surface\"}],\"table\":[{\"cells\":{\"fill\":{\"color\":\"#506784\"},\"line\":{\"color\":\"rgb(17,17,17)\"}},\"header\":{\"fill\":{\"color\":\"#2a3f5f\"},\"line\":{\"color\":\"rgb(17,17,17)\"}},\"type\":\"table\"}]},\"layout\":{\"annotationdefaults\":{\"arrowcolor\":\"#f2f5fa\",\"arrowhead\":0,\"arrowwidth\":1},\"autotypenumbers\":\"strict\",\"coloraxis\":{\"colorbar\":{\"outlinewidth\":0,\"ticks\":\"\"}},\"colorscale\":{\"diverging\":[[0,\"#8e0152\"],[0.1,\"#c51b7d\"],[0.2,\"#de77ae\"],[0.3,\"#f1b6da\"],[0.4,\"#fde0ef\"],[0.5,\"#f7f7f7\"],[0.6,\"#e6f5d0\"],[0.7,\"#b8e186\"],[0.8,\"#7fbc41\"],[0.9,\"#4d9221\"],[1,\"#276419\"]],\"sequential\":[[0.0,\"#0d0887\"],[0.1111111111111111,\"#46039f\"],[0.2222222222222222,\"#7201a8\"],[0.3333333333333333,\"#9c179e\"],[0.4444444444444444,\"#bd3786\"],[0.5555555555555556,\"#d8576b\"],[0.6666666666666666,\"#ed7953\"],[0.7777777777777778,\"#fb9f3a\"],[0.8888888888888888,\"#fdca26\"],[1.0,\"#f0f921\"]],\"sequentialminus\":[[0.0,\"#0d0887\"],[0.1111111111111111,\"#46039f\"],[0.2222222222222222,\"#7201a8\"],[0.3333333333333333,\"#9c179e\"],[0.4444444444444444,\"#bd3786\"],[0.5555555555555556,\"#d8576b\"],[0.6666666666666666,\"#ed7953\"],[0.7777777777777778,\"#fb9f3a\"],[0.8888888888888888,\"#fdca26\"],[1.0,\"#f0f921\"]]},\"colorway\":[\"#636efa\",\"#EF553B\",\"#00cc96\",\"#ab63fa\",\"#FFA15A\",\"#19d3f3\",\"#FF6692\",\"#B6E880\",\"#FF97FF\",\"#FECB52\"],\"font\":{\"color\":\"#f2f5fa\"},\"geo\":{\"bgcolor\":\"rgb(17,17,17)\",\"lakecolor\":\"rgb(17,17,17)\",\"landcolor\":\"rgb(17,17,17)\",\"showlakes\":true,\"showland\":true,\"subunitcolor\":\"#506784\"},\"hoverlabel\":{\"align\":\"left\"},\"hovermode\":\"closest\",\"mapbox\":{\"style\":\"dark\"},\"paper_bgcolor\":\"rgb(17,17,17)\",\"plot_bgcolor\":\"rgb(17,17,17)\",\"polar\":{\"angularaxis\":{\"gridcolor\":\"#506784\",\"linecolor\":\"#506784\",\"ticks\":\"\"},\"bgcolor\":\"rgb(17,17,17)\",\"radialaxis\":{\"gridcolor\":\"#506784\",\"linecolor\":\"#506784\",\"ticks\":\"\"}},\"scene\":{\"xaxis\":{\"backgroundcolor\":\"rgb(17,17,17)\",\"gridcolor\":\"#506784\",\"gridwidth\":2,\"linecolor\":\"#506784\",\"showbackground\":true,\"ticks\":\"\",\"zerolinecolor\":\"#C8D4E3\"},\"yaxis\":{\"backgroundcolor\":\"rgb(17,17,17)\",\"gridcolor\":\"#506784\",\"gridwidth\":2,\"linecolor\":\"#506784\",\"showbackground\":true,\"ticks\":\"\",\"zerolinecolor\":\"#C8D4E3\"},\"zaxis\":{\"backgroundcolor\":\"rgb(17,17,17)\",\"gridcolor\":\"#506784\",\"gridwidth\":2,\"linecolor\":\"#506784\",\"showbackground\":true,\"ticks\":\"\",\"zerolinecolor\":\"#C8D4E3\"}},\"shapedefaults\":{\"line\":{\"color\":\"#f2f5fa\"}},\"sliderdefaults\":{\"bgcolor\":\"#C8D4E3\",\"bordercolor\":\"rgb(17,17,17)\",\"borderwidth\":1,\"tickwidth\":0},\"ternary\":{\"aaxis\":{\"gridcolor\":\"#506784\",\"linecolor\":\"#506784\",\"ticks\":\"\"},\"baxis\":{\"gridcolor\":\"#506784\",\"linecolor\":\"#506784\",\"ticks\":\"\"},\"bgcolor\":\"rgb(17,17,17)\",\"caxis\":{\"gridcolor\":\"#506784\",\"linecolor\":\"#506784\",\"ticks\":\"\"}},\"title\":{\"x\":0.05},\"updatemenudefaults\":{\"bgcolor\":\"#506784\",\"borderwidth\":0},\"xaxis\":{\"automargin\":true,\"gridcolor\":\"#283442\",\"linecolor\":\"#506784\",\"ticks\":\"\",\"title\":{\"standoff\":15},\"zerolinecolor\":\"#283442\",\"zerolinewidth\":2},\"yaxis\":{\"automargin\":true,\"gridcolor\":\"#283442\",\"linecolor\":\"#506784\",\"ticks\":\"\",\"title\":{\"standoff\":15},\"zerolinecolor\":\"#283442\",\"zerolinewidth\":2}}},\"title\":{\"text\":\"Real complexity of operation\",\"x\":0.5},\"xaxis\":{\"autorange\":true,\"range\":[512000,51200000],\"title\":{\"text\":\"Vector Length\"}},\"yaxis\":{\"autorange\":true,\"title\":{\"text\":\"Time, ms\"}}},                        {\"responsive\": true}                    ).then(function(){\n",
              "                            \n",
              "var gd = document.getElementById('35889089-a8c5-4120-b514-c526f8b4b0a7');\n",
              "var x = new MutationObserver(function (mutations, observer) {{\n",
              "        var display = window.getComputedStyle(gd).display;\n",
              "        if (!display || display === 'none') {{\n",
              "            console.log([gd, 'removed!']);\n",
              "            Plotly.purge(gd);\n",
              "            observer.disconnect();\n",
              "        }}\n",
              "}});\n",
              "\n",
              "// Listen for the removal of the full notebook cells\n",
              "var notebookContainer = gd.closest('#notebook-container');\n",
              "if (notebookContainer) {{\n",
              "    x.observe(notebookContainer, {childList: true});\n",
              "}}\n",
              "\n",
              "// Listen for the clearing of the current output cell\n",
              "var outputEl = gd.closest('.output');\n",
              "if (outputEl) {{\n",
              "    x.observe(outputEl, {childList: true});\n",
              "}}\n",
              "\n",
              "                        })                };                            </script>        </div>\n",
              "</body>\n",
              "</html>"
            ]
          },
          "metadata": {}
        }
      ]
    },
    {
      "cell_type": "code",
      "source": [],
      "metadata": {
        "id": "mc2M4xSB7mjZ"
      },
      "execution_count": null,
      "outputs": []
    }
  ],
  "metadata": {
    "accelerator": "GPU",
    "colab": {
      "provenance": [],
      "authorship_tag": "ABX9TyMsbEbjgmJ2fhzC9otX8IrA",
      "include_colab_link": true
    },
    "kernelspec": {
      "display_name": "Python 3",
      "name": "python3"
    },
    "language_info": {
      "name": "python"
    }
  },
  "nbformat": 4,
  "nbformat_minor": 0
}