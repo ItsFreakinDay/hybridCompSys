{
  "cells": [
    {
      "cell_type": "markdown",
      "metadata": {
        "id": "view-in-github",
        "colab_type": "text"
      },
      "source": [
        "<a href=\"https://colab.research.google.com/github/ItsFreakinDay/hybridCompSys/blob/task1/first.ipynb\" target=\"_parent\"><img src=\"https://colab.research.google.com/assets/colab-badge.svg\" alt=\"Open In Colab\"/></a>"
      ]
    },
    {
      "cell_type": "code",
      "execution_count": 23,
      "metadata": {
        "colab": {
          "base_uri": "https://localhost:8080/"
        },
        "id": "r6wByOrUtj6Y",
        "outputId": "d509b004-878d-4f2c-de63-d73fe0dfe1b5"
      },
      "outputs": [
        {
          "output_type": "stream",
          "name": "stdout",
          "text": [
            "Overwriting copy.cu\n"
          ]
        }
      ],
      "source": [
        "%%writefile copy.cu\n",
        "#include <cuda_runtime.h>\n",
        "#include <curand_kernel.h>\n",
        "\n",
        "extern \"C\" {\n",
        "\n",
        "#include <stdio.h>\n",
        "\n",
        "\n",
        "__host__ void h_add(float* a, float* b, float* c, int n) {\n",
        "    for (int i = 0; i < n; i++) {\n",
        "        c[i] = a[i] + b[i];\n",
        "    }\n",
        "}\n",
        "\n",
        "\n",
        "__global__ void d_add(float *a, float *b, float *c, int n) {\n",
        "    int i = blockDim.x * blockIdx.x + threadIdx.x;\n",
        "\n",
        "    if (i < n) {\n",
        "        c[i] = a[i] + b[i];\n",
        "    }\n",
        "}\n",
        "\n",
        "\n",
        "__global__ void d_fill_uniform(\n",
        "    float *a, float *b, int n, float r, unsigned long long seed) {\n",
        "\n",
        "    int i = blockDim.x * blockIdx.x + threadIdx.x;\n",
        "\n",
        "    if (i < n) {\n",
        "        curandState_t state;\n",
        "        curand_init(seed, i, 0, &state);\n",
        "\n",
        "        a[i] = -r + 2 * r * curand_uniform(&state);\n",
        "        b[i] = -r + 2 * r * curand_uniform(&state);\n",
        "    }\n",
        "}\n",
        "\n",
        "\n",
        "float compare(float *a, float *b, int n, float eps) {\n",
        "    float diff = 0;\n",
        "\n",
        "    for (int i = 0; i < n; i++) {\n",
        "        diff = fabs(a[i] - b[i]);\n",
        "        if (diff >= eps) {\n",
        "            return diff;\n",
        "        }\n",
        "    }\n",
        "\n",
        "    return diff;\n",
        "}\n",
        "\n",
        "}\n",
        "\n",
        "#ifndef REDEFINE\n",
        "    #define VEC_LEN 51200000\n",
        "    #define VEC_LEN_INC 512000\n",
        "    #define CHECK_FIRST 51200\n",
        "    #define BLOCK_SIZE 128\n",
        "    #define FNAME_STAMPS \"timings.stmp\"\n",
        "    #define PRECISION 10e-10\n",
        "    #define SEED 27\n",
        "    #define VEC_MAX_ABS_VAL 101\n",
        "#endif\n",
        "\n",
        "#define VEC_MEM_SIZE (VEC_LEN * sizeof(float))\n",
        "#define ts_to_ms(ts) (ts.tv_sec * 10e3 + ts.tv_nsec * 10e-6)\n",
        "#define calc_grid_size(m) ((m + BLOCK_SIZE - 1) / BLOCK_SIZE)\n",
        "\n",
        "\n",
        "int main() {\n",
        "    float *h_a __attribute__ ((aligned (64)));\n",
        "    float *h_b __attribute__ ((aligned (64)));\n",
        "    float *h_c __attribute__ ((aligned (64)));\n",
        "    float *h_d __attribute__ ((aligned (64)));\n",
        "\n",
        "    h_a = (float*)malloc(VEC_MEM_SIZE);\n",
        "    h_b = (float*)malloc(VEC_MEM_SIZE);\n",
        "    h_c = (float*)malloc(VEC_MEM_SIZE);\n",
        "    h_d = (float*)malloc(VEC_MEM_SIZE);\n",
        "\n",
        "    float *d_a, *d_b, *d_c;\n",
        "    cudaMalloc((void**)&d_a, VEC_MEM_SIZE);\n",
        "    cudaMalloc((void**)&d_b, VEC_MEM_SIZE);\n",
        "    cudaMalloc((void**)&d_c, VEC_MEM_SIZE);\n",
        "\n",
        "    d_fill_uniform<<<calc_grid_size(VEC_LEN), BLOCK_SIZE>>>(\n",
        "        d_a, d_b, VEC_LEN, VEC_MAX_ABS_VAL, SEED);\n",
        "    cudaMemcpy(h_a, d_a, VEC_MEM_SIZE, cudaMemcpyDeviceToHost);\n",
        "    cudaMemcpy(h_b, d_b, VEC_MEM_SIZE, cudaMemcpyDeviceToHost);\n",
        "\n",
        "    h_add(h_a, h_b, h_c, CHECK_FIRST);\n",
        "    d_add<<<calc_grid_size(CHECK_FIRST), BLOCK_SIZE>>>(d_a, d_b, d_c, CHECK_FIRST);\n",
        "    cudaMemcpy(h_d, d_c, CHECK_FIRST * sizeof(float), cudaMemcpyDeviceToHost);\n",
        "\n",
        "    if (compare(h_c, h_d, CHECK_FIRST, PRECISION) > PRECISION) {\n",
        "        printf(\"Panic!\\n\");\n",
        "        return -1;\n",
        "    }\n",
        "\n",
        "    float h_time;\n",
        "    timespec h_start, h_stop;\n",
        "\n",
        "    float d_time;\n",
        "    cudaEvent_t d_start, d_stop;\n",
        "    cudaEventCreate(&d_start);\n",
        "    cudaEventCreate(&d_stop);\n",
        "\n",
        "    FILE* file = fopen(FNAME_STAMPS, \"w\");\n",
        "    fprintf(file, \"Vector Length, CPU Time, GPU Time\\n\");\n",
        "\n",
        "    for (int m = VEC_LEN_INC; m <= VEC_LEN; m += VEC_LEN_INC) {\n",
        "        clock_gettime(CLOCK_PROCESS_CPUTIME_ID, &h_start);\n",
        "        h_add(h_a, h_b, h_c, m);\n",
        "        clock_gettime(CLOCK_PROCESS_CPUTIME_ID, &h_stop);\n",
        "        h_time = (ts_to_ms(h_stop) - ts_to_ms(h_start)); // time in ms\n",
        "\n",
        "        cudaEventRecord(d_start);\n",
        "        d_add<<<calc_grid_size(m), BLOCK_SIZE>>>(d_a, d_b, d_c, m);\n",
        "        cudaEventRecord(d_stop);\n",
        "        cudaEventSynchronize(d_stop);\n",
        "        cudaEventElapsedTime(&d_time, d_start, d_stop); // time in ms\n",
        "\n",
        "        fprintf(file, \"%d, %f, %f\\n\", m, h_time, d_time);\n",
        "    }\n",
        "\n",
        "    free(h_a);\n",
        "    free(h_b);\n",
        "    free(h_c);\n",
        "    free(h_d);\n",
        "\n",
        "    cudaFree(d_a);\n",
        "    cudaFree(d_b);\n",
        "    cudaFree(d_c);\n",
        "\n",
        "    fclose(file);\n",
        "\n",
        "    return 0;\n",
        "}"
      ]
    },
    {
      "cell_type": "code",
      "execution_count": 24,
      "metadata": {
        "id": "zW1I-fbU5Rlg"
      },
      "outputs": [],
      "source": [
        "!nvcc -o qwert copy.cu"
      ]
    },
    {
      "cell_type": "code",
      "source": [
        "!./qwert"
      ],
      "metadata": {
        "id": "2XMhGWY02rZo"
      },
      "execution_count": 26,
      "outputs": []
    },
    {
      "cell_type": "code",
      "source": [
        "import pandas as pd\n",
        "import plotly.graph_objects as go\n",
        "import argparse\n",
        "\n",
        "\n",
        "def make_plot(df):\n",
        "    fig = go.Figure(\n",
        "        data=[\n",
        "            go.Scatter(\n",
        "                x=df[\"Vector Length\"], y=df[\"CPU Time\"],\n",
        "                mode=\"lines+markers\",\n",
        "                line=dict(dash='solid', color='indianred'),\n",
        "                name=\"CPU\"\n",
        "            ),\n",
        "            go.Scatter(\n",
        "                x=df[\"Vector Length\"], y=df[\"GPU Time\"],\n",
        "                mode=\"lines+markers\",\n",
        "                line=dict(dash='solid', color='limegreen'),\n",
        "                name=\"GPU\"\n",
        "            )\n",
        "        ],\n",
        "\n",
        "        layout=go.Layout(\n",
        "            xaxis=dict(\n",
        "                range=[df[\"Vector Length\"].min(), df[\"Vector Length\"].max()],\n",
        "                autorange=True,\n",
        "                title_text=\"Vector Length\"\n",
        "            ),\n",
        "            yaxis=dict(autorange=True, title_text=\"Time, ms\"),\n",
        "            title_text=\"Real complexity of operation\",\n",
        "            hovermode=\"closest\",\n",
        "            title_x=0.5,\n",
        "            template=\"plotly_dark\"),\n",
        "    )\n",
        "\n",
        "    fig.show()\n",
        "\n",
        "df = pd.read_csv(\"timings.stmp\", skipinitialspace=True)\n",
        "make_plot(df)"
      ],
      "metadata": {
        "colab": {
          "base_uri": "https://localhost:8080/",
          "height": 542
        },
        "id": "SptqnVEU5LcK",
        "outputId": "d03fece6-1ef9-47b6-d417-3d88e3a4bfc7"
      },
      "execution_count": 43,
      "outputs": [
        {
          "output_type": "display_data",
          "data": {
            "text/html": [
              "<html>\n",
              "<head><meta charset=\"utf-8\" /></head>\n",
              "<body>\n",
              "    <div>            <script src=\"https://cdnjs.cloudflare.com/ajax/libs/mathjax/2.7.5/MathJax.js?config=TeX-AMS-MML_SVG\"></script><script type=\"text/javascript\">if (window.MathJax && window.MathJax.Hub && window.MathJax.Hub.Config) {window.MathJax.Hub.Config({SVG: {font: \"STIX-Web\"}});}</script>                <script type=\"text/javascript\">window.PlotlyConfig = {MathJaxConfig: 'local'};</script>\n",
              "        <script charset=\"utf-8\" src=\"https://cdn.plot.ly/plotly-2.24.1.min.js\"></script>                <div id=\"c5a2209e-f96b-4ad5-acfd-2a0202c0b356\" class=\"plotly-graph-div\" style=\"height:525px; width:100%;\"></div>            <script type=\"text/javascript\">                                    window.PLOTLYENV=window.PLOTLYENV || {};                                    if (document.getElementById(\"c5a2209e-f96b-4ad5-acfd-2a0202c0b356\")) {                    Plotly.newPlot(                        \"c5a2209e-f96b-4ad5-acfd-2a0202c0b356\",                        [{\"line\":{\"color\":\"indianred\",\"dash\":\"solid\"},\"mode\":\"lines+markers\",\"name\":\"CPU\",\"x\":[512000,1024000,1536000,2048000,2560000,3072000,3584000,4096000,4608000,5120000,5632000,6144000,6656000,7168000,7680000,8192000,8704000,9216000,9728000,10240000,10752000,11264000,11776000,12288000,12800000,13312000,13824000,14336000,14848000,15360000,15872000,16384000,16896000,17408000,17920000,18432000,18944000,19456000,19968000,20480000,20992000,21504000,22016000,22528000,23040000,23552000,24064000,24576000,25088000,25600000,26112000,26624000,27136000,27648000,28160000,28672000,29184000,29696000,30208000,30720000,31232000,31744000,32256000,32768000,33280000,33792000,34304000,34816000,35328000,35840000,36352000,36864000,37376000,37888000,38400000,38912000,39424000,39936000,40448000,40960000,41472000,41984000,42496000,43008000,43520000,44032000,44544000,45056000,45568000,46080000,46592000,47104000,47616000,48128000,48640000,49152000,49664000,50176000,50688000,51200000],\"y\":[22.484579,38.387711,55.51564,72.676102,87.51783,100.970749,115.336609,133.029007,150.313599,168.384476,181.848892,195.090576,218.12381,229.927017,242.084625,267.370697,272.51178,287.871063,304.092041,322.279388,337.618011,352.924164,380.216827,411.521729,406.741028,422.792603,433.789337,492.429047,460.667053,479.381042,493.361725,524.334045,526.150269,566.675049,556.927002,579.299988,593.38092,611.709045,627.659668,639.984436,664.224365,709.317749,681.129944,707.612976,714.805786,746.595398,747.867371,762.358093,779.865723,795.930969,808.501892,827.8302,842.431763,868.786743,913.005554,889.012085,899.337158,916.539856,930.698975,968.485229,980.404297,995.191345,1070.957886,1014.381653,1059.870605,1076.101074,1062.474854,1079.210327,1109.487061,1121.814819,1134.146729,1150.817383,1159.159668,1219.043457,1198.121216,1409.714111,1235.755493,1277.312988,1268.831055,1287.569458,1291.060303,1345.149292,1328.358887,1333.260498,1359.341797,1364.40564,1431.280151,1469.763916,1479.47998,1431.360229,1440.167236,1477.261353,1797.593262,1922.171631,1929.010742,1952.595215,1960.471924,1972.166138,2007.623779,2029.510254],\"type\":\"scatter\"},{\"line\":{\"color\":\"limegreen\",\"dash\":\"solid\"},\"mode\":\"lines+markers\",\"name\":\"GPU\",\"x\":[512000,1024000,1536000,2048000,2560000,3072000,3584000,4096000,4608000,5120000,5632000,6144000,6656000,7168000,7680000,8192000,8704000,9216000,9728000,10240000,10752000,11264000,11776000,12288000,12800000,13312000,13824000,14336000,14848000,15360000,15872000,16384000,16896000,17408000,17920000,18432000,18944000,19456000,19968000,20480000,20992000,21504000,22016000,22528000,23040000,23552000,24064000,24576000,25088000,25600000,26112000,26624000,27136000,27648000,28160000,28672000,29184000,29696000,30208000,30720000,31232000,31744000,32256000,32768000,33280000,33792000,34304000,34816000,35328000,35840000,36352000,36864000,37376000,37888000,38400000,38912000,39424000,39936000,40448000,40960000,41472000,41984000,42496000,43008000,43520000,44032000,44544000,45056000,45568000,46080000,46592000,47104000,47616000,48128000,48640000,49152000,49664000,50176000,50688000,51200000],\"y\":[0.030752,0.057344,0.086016,0.110592,0.132576,0.155296,0.183584,0.208896,0.233568,0.259744,0.282624,0.315264,0.331776,0.362144,0.378816,0.403904,0.433536,0.450304,0.474624,0.499008,0.523904,0.548512,0.575488,0.597824,0.620544,0.643872,0.666752,0.69216,0.7168,0.739232,0.763744,0.786528,0.8112,0.836384,0.859584,0.88304,0.907264,0.929888,0.95616,0.978784,1.005856,1.029696,1.052672,1.06496,1.078112,1.101632,1.122304,1.146912,1.16944,1.194304,1.2168,1.2432,1.265472,1.287392,1.31088,1.333184,1.362752,1.380352,1.402656,1.428608,1.455616,1.47616,1.497376,1.520608,1.558528,1.568768,1.598624,1.613824,1.637536,1.660704,1.686912,1.708096,1.732576,1.761472,1.777664,1.80192,1.82448,1.849312,1.871488,1.896,1.917216,1.938368,1.96576,1.987264,2.011808,2.0336,2.059072,2.081056,2.105152,2.127392,2.150688,2.174624,2.21392,2.226208,2.250368,2.273184,2.295648,2.318432,2.344288,2.363808],\"type\":\"scatter\"}],                        {\"hovermode\":\"closest\",\"template\":{\"data\":{\"barpolar\":[{\"marker\":{\"line\":{\"color\":\"rgb(17,17,17)\",\"width\":0.5},\"pattern\":{\"fillmode\":\"overlay\",\"size\":10,\"solidity\":0.2}},\"type\":\"barpolar\"}],\"bar\":[{\"error_x\":{\"color\":\"#f2f5fa\"},\"error_y\":{\"color\":\"#f2f5fa\"},\"marker\":{\"line\":{\"color\":\"rgb(17,17,17)\",\"width\":0.5},\"pattern\":{\"fillmode\":\"overlay\",\"size\":10,\"solidity\":0.2}},\"type\":\"bar\"}],\"carpet\":[{\"aaxis\":{\"endlinecolor\":\"#A2B1C6\",\"gridcolor\":\"#506784\",\"linecolor\":\"#506784\",\"minorgridcolor\":\"#506784\",\"startlinecolor\":\"#A2B1C6\"},\"baxis\":{\"endlinecolor\":\"#A2B1C6\",\"gridcolor\":\"#506784\",\"linecolor\":\"#506784\",\"minorgridcolor\":\"#506784\",\"startlinecolor\":\"#A2B1C6\"},\"type\":\"carpet\"}],\"choropleth\":[{\"colorbar\":{\"outlinewidth\":0,\"ticks\":\"\"},\"type\":\"choropleth\"}],\"contourcarpet\":[{\"colorbar\":{\"outlinewidth\":0,\"ticks\":\"\"},\"type\":\"contourcarpet\"}],\"contour\":[{\"colorbar\":{\"outlinewidth\":0,\"ticks\":\"\"},\"colorscale\":[[0.0,\"#0d0887\"],[0.1111111111111111,\"#46039f\"],[0.2222222222222222,\"#7201a8\"],[0.3333333333333333,\"#9c179e\"],[0.4444444444444444,\"#bd3786\"],[0.5555555555555556,\"#d8576b\"],[0.6666666666666666,\"#ed7953\"],[0.7777777777777778,\"#fb9f3a\"],[0.8888888888888888,\"#fdca26\"],[1.0,\"#f0f921\"]],\"type\":\"contour\"}],\"heatmapgl\":[{\"colorbar\":{\"outlinewidth\":0,\"ticks\":\"\"},\"colorscale\":[[0.0,\"#0d0887\"],[0.1111111111111111,\"#46039f\"],[0.2222222222222222,\"#7201a8\"],[0.3333333333333333,\"#9c179e\"],[0.4444444444444444,\"#bd3786\"],[0.5555555555555556,\"#d8576b\"],[0.6666666666666666,\"#ed7953\"],[0.7777777777777778,\"#fb9f3a\"],[0.8888888888888888,\"#fdca26\"],[1.0,\"#f0f921\"]],\"type\":\"heatmapgl\"}],\"heatmap\":[{\"colorbar\":{\"outlinewidth\":0,\"ticks\":\"\"},\"colorscale\":[[0.0,\"#0d0887\"],[0.1111111111111111,\"#46039f\"],[0.2222222222222222,\"#7201a8\"],[0.3333333333333333,\"#9c179e\"],[0.4444444444444444,\"#bd3786\"],[0.5555555555555556,\"#d8576b\"],[0.6666666666666666,\"#ed7953\"],[0.7777777777777778,\"#fb9f3a\"],[0.8888888888888888,\"#fdca26\"],[1.0,\"#f0f921\"]],\"type\":\"heatmap\"}],\"histogram2dcontour\":[{\"colorbar\":{\"outlinewidth\":0,\"ticks\":\"\"},\"colorscale\":[[0.0,\"#0d0887\"],[0.1111111111111111,\"#46039f\"],[0.2222222222222222,\"#7201a8\"],[0.3333333333333333,\"#9c179e\"],[0.4444444444444444,\"#bd3786\"],[0.5555555555555556,\"#d8576b\"],[0.6666666666666666,\"#ed7953\"],[0.7777777777777778,\"#fb9f3a\"],[0.8888888888888888,\"#fdca26\"],[1.0,\"#f0f921\"]],\"type\":\"histogram2dcontour\"}],\"histogram2d\":[{\"colorbar\":{\"outlinewidth\":0,\"ticks\":\"\"},\"colorscale\":[[0.0,\"#0d0887\"],[0.1111111111111111,\"#46039f\"],[0.2222222222222222,\"#7201a8\"],[0.3333333333333333,\"#9c179e\"],[0.4444444444444444,\"#bd3786\"],[0.5555555555555556,\"#d8576b\"],[0.6666666666666666,\"#ed7953\"],[0.7777777777777778,\"#fb9f3a\"],[0.8888888888888888,\"#fdca26\"],[1.0,\"#f0f921\"]],\"type\":\"histogram2d\"}],\"histogram\":[{\"marker\":{\"pattern\":{\"fillmode\":\"overlay\",\"size\":10,\"solidity\":0.2}},\"type\":\"histogram\"}],\"mesh3d\":[{\"colorbar\":{\"outlinewidth\":0,\"ticks\":\"\"},\"type\":\"mesh3d\"}],\"parcoords\":[{\"line\":{\"colorbar\":{\"outlinewidth\":0,\"ticks\":\"\"}},\"type\":\"parcoords\"}],\"pie\":[{\"automargin\":true,\"type\":\"pie\"}],\"scatter3d\":[{\"line\":{\"colorbar\":{\"outlinewidth\":0,\"ticks\":\"\"}},\"marker\":{\"colorbar\":{\"outlinewidth\":0,\"ticks\":\"\"}},\"type\":\"scatter3d\"}],\"scattercarpet\":[{\"marker\":{\"colorbar\":{\"outlinewidth\":0,\"ticks\":\"\"}},\"type\":\"scattercarpet\"}],\"scattergeo\":[{\"marker\":{\"colorbar\":{\"outlinewidth\":0,\"ticks\":\"\"}},\"type\":\"scattergeo\"}],\"scattergl\":[{\"marker\":{\"line\":{\"color\":\"#283442\"}},\"type\":\"scattergl\"}],\"scattermapbox\":[{\"marker\":{\"colorbar\":{\"outlinewidth\":0,\"ticks\":\"\"}},\"type\":\"scattermapbox\"}],\"scatterpolargl\":[{\"marker\":{\"colorbar\":{\"outlinewidth\":0,\"ticks\":\"\"}},\"type\":\"scatterpolargl\"}],\"scatterpolar\":[{\"marker\":{\"colorbar\":{\"outlinewidth\":0,\"ticks\":\"\"}},\"type\":\"scatterpolar\"}],\"scatter\":[{\"marker\":{\"line\":{\"color\":\"#283442\"}},\"type\":\"scatter\"}],\"scatterternary\":[{\"marker\":{\"colorbar\":{\"outlinewidth\":0,\"ticks\":\"\"}},\"type\":\"scatterternary\"}],\"surface\":[{\"colorbar\":{\"outlinewidth\":0,\"ticks\":\"\"},\"colorscale\":[[0.0,\"#0d0887\"],[0.1111111111111111,\"#46039f\"],[0.2222222222222222,\"#7201a8\"],[0.3333333333333333,\"#9c179e\"],[0.4444444444444444,\"#bd3786\"],[0.5555555555555556,\"#d8576b\"],[0.6666666666666666,\"#ed7953\"],[0.7777777777777778,\"#fb9f3a\"],[0.8888888888888888,\"#fdca26\"],[1.0,\"#f0f921\"]],\"type\":\"surface\"}],\"table\":[{\"cells\":{\"fill\":{\"color\":\"#506784\"},\"line\":{\"color\":\"rgb(17,17,17)\"}},\"header\":{\"fill\":{\"color\":\"#2a3f5f\"},\"line\":{\"color\":\"rgb(17,17,17)\"}},\"type\":\"table\"}]},\"layout\":{\"annotationdefaults\":{\"arrowcolor\":\"#f2f5fa\",\"arrowhead\":0,\"arrowwidth\":1},\"autotypenumbers\":\"strict\",\"coloraxis\":{\"colorbar\":{\"outlinewidth\":0,\"ticks\":\"\"}},\"colorscale\":{\"diverging\":[[0,\"#8e0152\"],[0.1,\"#c51b7d\"],[0.2,\"#de77ae\"],[0.3,\"#f1b6da\"],[0.4,\"#fde0ef\"],[0.5,\"#f7f7f7\"],[0.6,\"#e6f5d0\"],[0.7,\"#b8e186\"],[0.8,\"#7fbc41\"],[0.9,\"#4d9221\"],[1,\"#276419\"]],\"sequential\":[[0.0,\"#0d0887\"],[0.1111111111111111,\"#46039f\"],[0.2222222222222222,\"#7201a8\"],[0.3333333333333333,\"#9c179e\"],[0.4444444444444444,\"#bd3786\"],[0.5555555555555556,\"#d8576b\"],[0.6666666666666666,\"#ed7953\"],[0.7777777777777778,\"#fb9f3a\"],[0.8888888888888888,\"#fdca26\"],[1.0,\"#f0f921\"]],\"sequentialminus\":[[0.0,\"#0d0887\"],[0.1111111111111111,\"#46039f\"],[0.2222222222222222,\"#7201a8\"],[0.3333333333333333,\"#9c179e\"],[0.4444444444444444,\"#bd3786\"],[0.5555555555555556,\"#d8576b\"],[0.6666666666666666,\"#ed7953\"],[0.7777777777777778,\"#fb9f3a\"],[0.8888888888888888,\"#fdca26\"],[1.0,\"#f0f921\"]]},\"colorway\":[\"#636efa\",\"#EF553B\",\"#00cc96\",\"#ab63fa\",\"#FFA15A\",\"#19d3f3\",\"#FF6692\",\"#B6E880\",\"#FF97FF\",\"#FECB52\"],\"font\":{\"color\":\"#f2f5fa\"},\"geo\":{\"bgcolor\":\"rgb(17,17,17)\",\"lakecolor\":\"rgb(17,17,17)\",\"landcolor\":\"rgb(17,17,17)\",\"showlakes\":true,\"showland\":true,\"subunitcolor\":\"#506784\"},\"hoverlabel\":{\"align\":\"left\"},\"hovermode\":\"closest\",\"mapbox\":{\"style\":\"dark\"},\"paper_bgcolor\":\"rgb(17,17,17)\",\"plot_bgcolor\":\"rgb(17,17,17)\",\"polar\":{\"angularaxis\":{\"gridcolor\":\"#506784\",\"linecolor\":\"#506784\",\"ticks\":\"\"},\"bgcolor\":\"rgb(17,17,17)\",\"radialaxis\":{\"gridcolor\":\"#506784\",\"linecolor\":\"#506784\",\"ticks\":\"\"}},\"scene\":{\"xaxis\":{\"backgroundcolor\":\"rgb(17,17,17)\",\"gridcolor\":\"#506784\",\"gridwidth\":2,\"linecolor\":\"#506784\",\"showbackground\":true,\"ticks\":\"\",\"zerolinecolor\":\"#C8D4E3\"},\"yaxis\":{\"backgroundcolor\":\"rgb(17,17,17)\",\"gridcolor\":\"#506784\",\"gridwidth\":2,\"linecolor\":\"#506784\",\"showbackground\":true,\"ticks\":\"\",\"zerolinecolor\":\"#C8D4E3\"},\"zaxis\":{\"backgroundcolor\":\"rgb(17,17,17)\",\"gridcolor\":\"#506784\",\"gridwidth\":2,\"linecolor\":\"#506784\",\"showbackground\":true,\"ticks\":\"\",\"zerolinecolor\":\"#C8D4E3\"}},\"shapedefaults\":{\"line\":{\"color\":\"#f2f5fa\"}},\"sliderdefaults\":{\"bgcolor\":\"#C8D4E3\",\"bordercolor\":\"rgb(17,17,17)\",\"borderwidth\":1,\"tickwidth\":0},\"ternary\":{\"aaxis\":{\"gridcolor\":\"#506784\",\"linecolor\":\"#506784\",\"ticks\":\"\"},\"baxis\":{\"gridcolor\":\"#506784\",\"linecolor\":\"#506784\",\"ticks\":\"\"},\"bgcolor\":\"rgb(17,17,17)\",\"caxis\":{\"gridcolor\":\"#506784\",\"linecolor\":\"#506784\",\"ticks\":\"\"}},\"title\":{\"x\":0.05},\"updatemenudefaults\":{\"bgcolor\":\"#506784\",\"borderwidth\":0},\"xaxis\":{\"automargin\":true,\"gridcolor\":\"#283442\",\"linecolor\":\"#506784\",\"ticks\":\"\",\"title\":{\"standoff\":15},\"zerolinecolor\":\"#283442\",\"zerolinewidth\":2},\"yaxis\":{\"automargin\":true,\"gridcolor\":\"#283442\",\"linecolor\":\"#506784\",\"ticks\":\"\",\"title\":{\"standoff\":15},\"zerolinecolor\":\"#283442\",\"zerolinewidth\":2}}},\"title\":{\"text\":\"Real complexity of operation\",\"x\":0.5},\"xaxis\":{\"autorange\":true,\"range\":[512000,51200000],\"title\":{\"text\":\"Vector Length\"}},\"yaxis\":{\"autorange\":true,\"title\":{\"text\":\"Time, ms\"}}},                        {\"responsive\": true}                    ).then(function(){\n",
              "                            \n",
              "var gd = document.getElementById('c5a2209e-f96b-4ad5-acfd-2a0202c0b356');\n",
              "var x = new MutationObserver(function (mutations, observer) {{\n",
              "        var display = window.getComputedStyle(gd).display;\n",
              "        if (!display || display === 'none') {{\n",
              "            console.log([gd, 'removed!']);\n",
              "            Plotly.purge(gd);\n",
              "            observer.disconnect();\n",
              "        }}\n",
              "}});\n",
              "\n",
              "// Listen for the removal of the full notebook cells\n",
              "var notebookContainer = gd.closest('#notebook-container');\n",
              "if (notebookContainer) {{\n",
              "    x.observe(notebookContainer, {childList: true});\n",
              "}}\n",
              "\n",
              "// Listen for the clearing of the current output cell\n",
              "var outputEl = gd.closest('.output');\n",
              "if (outputEl) {{\n",
              "    x.observe(outputEl, {childList: true});\n",
              "}}\n",
              "\n",
              "                        })                };                            </script>        </div>\n",
              "</body>\n",
              "</html>"
            ]
          },
          "metadata": {}
        }
      ]
    },
    {
      "cell_type": "code",
      "source": [
        "!"
      ],
      "metadata": {
        "id": "mc2M4xSB7mjZ"
      },
      "execution_count": null,
      "outputs": []
    }
  ],
  "metadata": {
    "accelerator": "GPU",
    "colab": {
      "provenance": [],
      "authorship_tag": "ABX9TyP/Xa1s9empaPVHyPZx2A5z",
      "include_colab_link": true
    },
    "kernelspec": {
      "display_name": "Python 3",
      "name": "python3"
    },
    "language_info": {
      "name": "python"
    }
  },
  "nbformat": 4,
  "nbformat_minor": 0
}